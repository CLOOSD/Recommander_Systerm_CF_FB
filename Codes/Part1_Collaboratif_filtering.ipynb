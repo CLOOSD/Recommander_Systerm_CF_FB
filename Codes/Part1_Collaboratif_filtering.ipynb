{
 "cells": [
  {
   "cell_type": "markdown",
   "metadata": {},
   "source": [
    "# Nettoyage des données:"
   ]
  },
  {
   "cell_type": "code",
   "execution_count": 1,
   "metadata": {
    "collapsed": true
   },
   "outputs": [],
   "source": [
    "import pandas as pd \n",
    "import numpy as np\n",
    "import random\n",
    "random.seed(9001)\n",
    "#pour avoir toujours les memes erreurs à chaque fois qu'on re exécute le projet."
   ]
  },
  {
   "cell_type": "code",
   "execution_count": 9,
   "metadata": {
    "collapsed": false
   },
   "outputs": [],
   "source": [
    "tab = pd.read_csv('ratings.csv')\n",
    "#tab = pd.read_csv('ratings_new.csv')\n"
   ]
  },
  {
   "cell_type": "code",
   "execution_count": 3,
   "metadata": {
    "collapsed": false
   },
   "outputs": [
    {
     "data": {
      "text/plain": [
       "Index([u'userId', u'movieId', u'rating', u'timestamp'], dtype='object')"
      ]
     },
     "execution_count": 3,
     "metadata": {},
     "output_type": "execute_result"
    }
   ],
   "source": [
    "tab.columns"
   ]
  },
  {
   "cell_type": "code",
   "execution_count": 4,
   "metadata": {
    "collapsed": false
   },
   "outputs": [
    {
     "name": "stdout",
     "output_type": "stream",
     "text": [
      "le nombre des utilisateurs est :671 Et le nombre des items est: 9066\n"
     ]
    }
   ],
   "source": [
    "useri,frequsers=np.unique(tab.userId,return_counts=True)#useri les id des users, frequsers les freq de chaque user\n",
    "itemi,freqitems=np.unique(tab.movieId,return_counts=True)#itemi les id des item, freqitem les freq de chaque item\n",
    "n_users=len(useri)\n",
    "n_items=len(itemi)\n",
    "print(\"le nombre des utilisateurs est :\"+ str(n_users) + \" Et le nombre des items est: \"+ str(n_items))"
   ]
  },
  {
   "cell_type": "markdown",
   "metadata": {},
   "source": [
    "\n",
    "Un des problèmes qu'on a rencontré était le fait que les ids des items n'était pas ordonnée.\n",
    "\n",
    "C'est à dire on peut trouver l'utilisateur 1,2,3,5 et 8 sans trouver les utilisateurs 4 ,6 et 7. \n",
    "\n",
    "Ceci nous a posé un problème dans la création de la matrice user-item parce que on risque d'avoir plusieurs lignes et colonnes vides.\n",
    "\n",
    "Pour ça, on a crée un tableau indice_user et un tableau indice_item qui contiennent les anciens id et les nouvelles id \n",
    "par expl (1,2,5,6)=>(1,2,3,4) puis on a ajouté deux colonnes sur le tableau principale qui contient ces nouveaux IDs.\n",
    "\n",
    "(ps) ce traitement est très couteux, pour cela on l'a lancé une seule fois, on a exporté les nouvelles ids dans un fichier csv, et à chaque fois on utilise ce nouveau fichier.\n"
   ]
  },
  {
   "cell_type": "code",
   "execution_count": 10,
   "metadata": {
    "collapsed": false
   },
   "outputs": [],
   "source": [
    "indice_user = pd.DataFrame()\n",
    "indice_user[\"indice\"]=range(1,len(useri)+1)\n",
    "indice_user[\"useri\"]=useri\n",
    "\n",
    "\n",
    "indice_item = pd.DataFrame()\n",
    "indice_item[\"indice\"]=range(1,len(itemi)+1)\n",
    "indice_item[\"itemi\"]=itemi"
   ]
  },
  {
   "cell_type": "code",
   "execution_count": 12,
   "metadata": {
    "collapsed": false
   },
   "outputs": [],
   "source": [
    "#créer user_ID_new et Item_ID_new\n",
    "x=[]\n",
    "y=[]\n",
    "for i in range(0,len(tab)):\n",
    "    x.append((indice_user.indice[indice_user.useri==tab.userId[i]].axes[0]+1)[0])\n",
    "    y.append((indice_item.indice[indice_item.itemi==tab.movieId[i]].axes[0]+1)[0])\n"
   ]
  },
  {
   "cell_type": "code",
   "execution_count": 25,
   "metadata": {
    "collapsed": false
   },
   "outputs": [],
   "source": [
    "tab[\"userIdnew\"]=x\n",
    "tab[\"movieIdnew\"]=y\n"
   ]
  },
  {
   "cell_type": "code",
   "execution_count": 30,
   "metadata": {
    "collapsed": false
   },
   "outputs": [
    {
     "data": {
      "text/html": [
       "<div>\n",
       "<table border=\"1\" class=\"dataframe\">\n",
       "  <thead>\n",
       "    <tr style=\"text-align: right;\">\n",
       "      <th></th>\n",
       "      <th>userId</th>\n",
       "      <th>movieId</th>\n",
       "      <th>rating</th>\n",
       "      <th>timestamp</th>\n",
       "      <th>userIdnew</th>\n",
       "      <th>movieIdnew</th>\n",
       "    </tr>\n",
       "  </thead>\n",
       "  <tbody>\n",
       "    <tr>\n",
       "      <th>0</th>\n",
       "      <td>1</td>\n",
       "      <td>31</td>\n",
       "      <td>2.5</td>\n",
       "      <td>1260759144</td>\n",
       "      <td>1</td>\n",
       "      <td>31</td>\n",
       "    </tr>\n",
       "    <tr>\n",
       "      <th>1</th>\n",
       "      <td>1</td>\n",
       "      <td>1029</td>\n",
       "      <td>3.0</td>\n",
       "      <td>1260759179</td>\n",
       "      <td>1</td>\n",
       "      <td>834</td>\n",
       "    </tr>\n",
       "    <tr>\n",
       "      <th>2</th>\n",
       "      <td>1</td>\n",
       "      <td>1061</td>\n",
       "      <td>3.0</td>\n",
       "      <td>1260759182</td>\n",
       "      <td>1</td>\n",
       "      <td>860</td>\n",
       "    </tr>\n",
       "    <tr>\n",
       "      <th>3</th>\n",
       "      <td>1</td>\n",
       "      <td>1129</td>\n",
       "      <td>2.0</td>\n",
       "      <td>1260759185</td>\n",
       "      <td>1</td>\n",
       "      <td>907</td>\n",
       "    </tr>\n",
       "    <tr>\n",
       "      <th>4</th>\n",
       "      <td>1</td>\n",
       "      <td>1172</td>\n",
       "      <td>4.0</td>\n",
       "      <td>1260759205</td>\n",
       "      <td>1</td>\n",
       "      <td>932</td>\n",
       "    </tr>\n",
       "    <tr>\n",
       "      <th>5</th>\n",
       "      <td>1</td>\n",
       "      <td>1263</td>\n",
       "      <td>2.0</td>\n",
       "      <td>1260759151</td>\n",
       "      <td>1</td>\n",
       "      <td>1018</td>\n",
       "    </tr>\n",
       "    <tr>\n",
       "      <th>6</th>\n",
       "      <td>1</td>\n",
       "      <td>1287</td>\n",
       "      <td>2.0</td>\n",
       "      <td>1260759187</td>\n",
       "      <td>1</td>\n",
       "      <td>1042</td>\n",
       "    </tr>\n",
       "    <tr>\n",
       "      <th>7</th>\n",
       "      <td>1</td>\n",
       "      <td>1293</td>\n",
       "      <td>2.0</td>\n",
       "      <td>1260759148</td>\n",
       "      <td>1</td>\n",
       "      <td>1048</td>\n",
       "    </tr>\n",
       "    <tr>\n",
       "      <th>8</th>\n",
       "      <td>1</td>\n",
       "      <td>1339</td>\n",
       "      <td>3.5</td>\n",
       "      <td>1260759125</td>\n",
       "      <td>1</td>\n",
       "      <td>1084</td>\n",
       "    </tr>\n",
       "    <tr>\n",
       "      <th>9</th>\n",
       "      <td>1</td>\n",
       "      <td>1343</td>\n",
       "      <td>2.0</td>\n",
       "      <td>1260759131</td>\n",
       "      <td>1</td>\n",
       "      <td>1088</td>\n",
       "    </tr>\n",
       "    <tr>\n",
       "      <th>10</th>\n",
       "      <td>1</td>\n",
       "      <td>1371</td>\n",
       "      <td>2.5</td>\n",
       "      <td>1260759135</td>\n",
       "      <td>1</td>\n",
       "      <td>1112</td>\n",
       "    </tr>\n",
       "    <tr>\n",
       "      <th>11</th>\n",
       "      <td>1</td>\n",
       "      <td>1405</td>\n",
       "      <td>1.0</td>\n",
       "      <td>1260759203</td>\n",
       "      <td>1</td>\n",
       "      <td>1141</td>\n",
       "    </tr>\n",
       "    <tr>\n",
       "      <th>12</th>\n",
       "      <td>1</td>\n",
       "      <td>1953</td>\n",
       "      <td>4.0</td>\n",
       "      <td>1260759191</td>\n",
       "      <td>1</td>\n",
       "      <td>1516</td>\n",
       "    </tr>\n",
       "    <tr>\n",
       "      <th>13</th>\n",
       "      <td>1</td>\n",
       "      <td>2105</td>\n",
       "      <td>4.0</td>\n",
       "      <td>1260759139</td>\n",
       "      <td>1</td>\n",
       "      <td>1666</td>\n",
       "    </tr>\n",
       "    <tr>\n",
       "      <th>14</th>\n",
       "      <td>1</td>\n",
       "      <td>2150</td>\n",
       "      <td>3.0</td>\n",
       "      <td>1260759194</td>\n",
       "      <td>1</td>\n",
       "      <td>1709</td>\n",
       "    </tr>\n",
       "    <tr>\n",
       "      <th>15</th>\n",
       "      <td>1</td>\n",
       "      <td>2193</td>\n",
       "      <td>2.0</td>\n",
       "      <td>1260759198</td>\n",
       "      <td>1</td>\n",
       "      <td>1744</td>\n",
       "    </tr>\n",
       "    <tr>\n",
       "      <th>16</th>\n",
       "      <td>1</td>\n",
       "      <td>2294</td>\n",
       "      <td>2.0</td>\n",
       "      <td>1260759108</td>\n",
       "      <td>1</td>\n",
       "      <td>1816</td>\n",
       "    </tr>\n",
       "    <tr>\n",
       "      <th>17</th>\n",
       "      <td>1</td>\n",
       "      <td>2455</td>\n",
       "      <td>2.5</td>\n",
       "      <td>1260759113</td>\n",
       "      <td>1</td>\n",
       "      <td>1963</td>\n",
       "    </tr>\n",
       "    <tr>\n",
       "      <th>18</th>\n",
       "      <td>1</td>\n",
       "      <td>2968</td>\n",
       "      <td>1.0</td>\n",
       "      <td>1260759200</td>\n",
       "      <td>1</td>\n",
       "      <td>2381</td>\n",
       "    </tr>\n",
       "    <tr>\n",
       "      <th>19</th>\n",
       "      <td>1</td>\n",
       "      <td>3671</td>\n",
       "      <td>3.0</td>\n",
       "      <td>1260759117</td>\n",
       "      <td>1</td>\n",
       "      <td>2926</td>\n",
       "    </tr>\n",
       "  </tbody>\n",
       "</table>\n",
       "</div>"
      ],
      "text/plain": [
       "    userId  movieId  rating   timestamp  userIdnew  movieIdnew\n",
       "0        1       31     2.5  1260759144          1          31\n",
       "1        1     1029     3.0  1260759179          1         834\n",
       "2        1     1061     3.0  1260759182          1         860\n",
       "3        1     1129     2.0  1260759185          1         907\n",
       "4        1     1172     4.0  1260759205          1         932\n",
       "5        1     1263     2.0  1260759151          1        1018\n",
       "6        1     1287     2.0  1260759187          1        1042\n",
       "7        1     1293     2.0  1260759148          1        1048\n",
       "8        1     1339     3.5  1260759125          1        1084\n",
       "9        1     1343     2.0  1260759131          1        1088\n",
       "10       1     1371     2.5  1260759135          1        1112\n",
       "11       1     1405     1.0  1260759203          1        1141\n",
       "12       1     1953     4.0  1260759191          1        1516\n",
       "13       1     2105     4.0  1260759139          1        1666\n",
       "14       1     2150     3.0  1260759194          1        1709\n",
       "15       1     2193     2.0  1260759198          1        1744\n",
       "16       1     2294     2.0  1260759108          1        1816\n",
       "17       1     2455     2.5  1260759113          1        1963\n",
       "18       1     2968     1.0  1260759200          1        2381\n",
       "19       1     3671     3.0  1260759117          1        2926"
      ]
     },
     "execution_count": 30,
     "metadata": {},
     "output_type": "execute_result"
    }
   ],
   "source": [
    "#tab.to_csv('ratings_new.csv')\n",
    "tab[:20]"
   ]
  },
  {
   "cell_type": "code",
   "execution_count": 31,
   "metadata": {
    "collapsed": true
   },
   "outputs": [],
   "source": [
    "#validation croisé:\n",
    "\n",
    "from sklearn import cross_validation as cv\n",
    "train_data, test_data = cv.train_test_split(tab[[\"userIdnew\",\"movieIdnew\",\"rating\"]], test_size=0.25,random_state=123)"
   ]
  },
  {
   "cell_type": "markdown",
   "metadata": {
    "collapsed": false
   },
   "source": [
    "\n",
    "La régle dit que si on a une grande sparsity (ou bien rareté des données, c'est de ne pas arriver à calculer la \n",
    "similarité entre 2 utilisateurs par expl si chaqu'un a aimé different items que l'autre), les modèles Model Based seront les plus efficace.\n",
    "Calculant alors la sparsity:\n"
   ]
  },
  {
   "cell_type": "code",
   "execution_count": 32,
   "metadata": {
    "collapsed": false
   },
   "outputs": [
    {
     "name": "stdout",
     "output_type": "stream",
     "text": [
      "The sparsity level of our data base is 98.4%\n"
     ]
    }
   ],
   "source": [
    "sparsity=round(1.0-len(tab)/float(n_users*n_items),3)\n",
    "print 'The sparsity level of our data base is ' +  str(sparsity*100) + '%'"
   ]
  },
  {
   "cell_type": "markdown",
   "metadata": {
    "collapsed": false
   },
   "source": [
    "\n",
    "La pourcentage de sparsity est bien grande donc, on peut confirmer dés maintenant que les modèles Model Based seront les \n",
    "modèles les plus efficaces."
   ]
  },
  {
   "cell_type": "markdown",
   "metadata": {},
   "source": [
    "# 1. Memory based Collaboratif Filtering:"
   ]
  },
  {
   "cell_type": "markdown",
   "metadata": {},
   "source": [
    "### 1.1 La mise en place du modèle:"
   ]
  },
  {
   "cell_type": "markdown",
   "metadata": {},
   "source": [
    "\n",
    "On va commencer par créer les modèles Memory based.\n",
    "\n",
    "    -Les modèles User-Based : \"Les utilisateurs qui sont similaires à vous, ont aimé aussi ...\"\n",
    "    \n",
    "    -Les modèles Item-Based: \"Les utilisateurs qui ont aimé ça, ont aimé aussi ...\"\n",
    "    \n",
    "Pour expliquer plus:\n",
    "\n",
    "-le modele User-Based: va prendre un utilisateur, trouve les utilisateur les plus similaires à lui en se basant sur la note, Puis recommande les items aimé par ces utilisateurs(ça prend un user et retourne des items)\n",
    "\n",
    "-Le modele Item-Based:prend un item, cherche les utilisateurs qui ont aimé cet item, trouve les items aimé par ces utilisateurs\n",
    "(ça prend un item et retounes une liste des items)\n",
    "\n",
    "Pour le faire, on utilisé 2 métriques le cosine similaire et cityblock.\n",
    "Pour le faire, on a commencé par créer les matrice user-item train et test. Ce sont les deux matrices qui vont croisé les notes de utilsiateurs et des items.\n",
    "Puis, on a créé nos 4 modèles Memory Based  \n",
    "à la fin, on a créé une fonction pour faire les prédictions selon le modèle\n"
   ]
  },
  {
   "cell_type": "code",
   "execution_count": 35,
   "metadata": {
    "collapsed": false,
    "scrolled": true
   },
   "outputs": [],
   "source": [
    "\n",
    "train_data_matrix = np.zeros((n_users, n_items))#matrice nulle de longuer tous les users et tous les items\n",
    "for line in train_data.itertuples():#parcourire la ligne col par col\n",
    "    train_data_matrix[line[1]-1, line[2]-1] = line[3] \n",
    "\n",
    "test_data_matrix = np.zeros((n_users, n_items))\n",
    "for line in test_data.itertuples():\n",
    "    test_data_matrix[line[1]-1, line[2]-1] = line[3]"
   ]
  },
  {
   "cell_type": "code",
   "execution_count": 36,
   "metadata": {
    "collapsed": false
   },
   "outputs": [],
   "source": [
    "#calcule de la cos similarity : (construction du modèle)\n",
    "from sklearn.metrics.pairwise import pairwise_distances\n",
    "user_similarity = pairwise_distances(train_data_matrix, metric='cosine')\n",
    "item_similarity = pairwise_distances(train_data_matrix.T, metric='cosine')\n",
    "user_similarity1 = pairwise_distances(train_data_matrix, metric='cityblock')\n",
    "item_similarity1 = pairwise_distances(train_data_matrix.T, metric='cityblock')\n"
   ]
  },
  {
   "cell_type": "code",
   "execution_count": 51,
   "metadata": {
    "collapsed": true
   },
   "outputs": [],
   "source": [
    "\n",
    "def predict(ratings, similarity, type='user'):#prend\n",
    "    if type == 'user':\n",
    "        mean_user_rating = ratings.mean(axis=1)#mean pour chauqe utilisateur (type = float)\n",
    "        #np.newaxis pour convertir mean_user_rating de array de float en array d'array pour l'utiliser avec ratings\n",
    "        #puis on a normalisé la var ratings (rating - E)\n",
    "        ratings_diff = (ratings - mean_user_rating[:, np.newaxis]) #(type === array comme la var rating)\n",
    "        pred = mean_user_rating[:, np.newaxis] + similarity.dot(ratings_diff) / np.array([np.abs(similarity).sum(axis=1)]).T\n",
    "    elif type == 'item':\n",
    "        pred = ratings.dot(similarity) / np.array([np.abs(similarity).sum(axis=1)]) \n",
    "        \n",
    "    x = np.zeros((n_users, n_items))\n",
    "    for i in range(0,n_items):\n",
    "        a=max(pred[:,i])\n",
    "        b=min(pred[:,i])\n",
    "        c=0\n",
    "        d=5\n",
    "        for j in range(0,n_users):\n",
    "            x[j,i]=(pred[:,i][j]-(a-c))*d/(b-a+c)\n",
    "    \n",
    "    return x"
   ]
  },
  {
   "cell_type": "code",
   "execution_count": 52,
   "metadata": {
    "collapsed": false
   },
   "outputs": [],
   "source": [
    "#la prédiction avec les differents modèles:\n",
    "item_prediction = predict(test_data_matrix, item_similarity, type='item')\n",
    "user_prediction = predict(test_data_matrix, user_similarity, type='user')\n",
    "item_prediction1 = predict(test_data_matrix, item_similarity1, type='item')\n",
    "user_prediction1 = predict(test_data_matrix, user_similarity1, type='user')"
   ]
  },
  {
   "cell_type": "markdown",
   "metadata": {},
   "source": [
    "### 1.2. La comparaison des RMSE:"
   ]
  },
  {
   "cell_type": "code",
   "execution_count": 53,
   "metadata": {
    "collapsed": true
   },
   "outputs": [],
   "source": [
    "#la creation de la fonction qui calcule le RMSE:\n",
    "from sklearn.metrics import mean_squared_error\n",
    "from math import sqrt\n",
    "def rmse(prediction, ground_truth): #Root Mean Squared Error\n",
    "    prediction = prediction[ground_truth.nonzero()].flatten() \n",
    "    #.flatten() fusionne les elts des array en un array\n",
    "    #on attribue a prediction, les résultats des prédictions où on connait le vrais rating cad:\n",
    "    #prediction: tous nos prédictions sur test; ground_truth.nonzero():les vrais résultats qu'on a dans test\n",
    "    #on va mettre dans prediction les valeurs qu'on a prédit pour les elts qu'on adéja.\n",
    "    ground_truth = ground_truth[ground_truth.nonzero()].flatten()#pareil dans ground truth\n",
    "    return sqrt(mean_squared_error(prediction, ground_truth))"
   ]
  },
  {
   "cell_type": "code",
   "execution_count": 54,
   "metadata": {
    "collapsed": false
   },
   "outputs": [
    {
     "name": "stdout",
     "output_type": "stream",
     "text": [
      "User-based CF: The RMSE for the cosine similarity metric is : 1.4977638525\n",
      "Item-based CF: The RMSE for the cosine similarity metric is :  1.50327465213\n",
      "User-based CF: The RMSE for the cityblock similarity metric is :   1.5172654194\n",
      "Item-based CF: The RMSE for the cityblock similarity metric is : 1.55417757528\n"
     ]
    }
   ],
   "source": [
    "print 'User-based CF: The RMSE for the cosine similarity metric is : ' + str(rmse(user_prediction, test_data_matrix))\n",
    "print 'Item-based CF: The RMSE for the cosine similarity metric is :  ' + str(rmse(item_prediction, test_data_matrix))\n",
    "print 'User-based CF: The RMSE for the cityblock similarity metric is :   ' + str(rmse(user_prediction1, test_data_matrix))\n",
    "print 'Item-based CF: The RMSE for the cityblock similarity metric is : ' + str(rmse(item_prediction1, test_data_matrix))\n"
   ]
  },
  {
   "cell_type": "markdown",
   "metadata": {},
   "source": [
    "\n",
    "Le meilleur modèle est celui qui a le RMSE le plus petit.\n",
    "\n",
    "Pour notre cas c'était User based pour la métrique cosine.\n"
   ]
  },
  {
   "cell_type": "markdown",
   "metadata": {
    "collapsed": true
   },
   "source": [
    "Conclusion: \n",
    "    \n",
    "-Les modèles Memory based sont  facile à implementer et génére des bonnes résultats.\n",
    "\n",
    "-Ce type de modèle n'est pas scalable (n'est pas vraiment pratique dans un problème d'une grande base de donnée vu qu'il \n",
    "calcule à chaque fois la corrélation entre tous les utilisateur &/| les items) et ne resolut pas le problème de cold start(\n",
    "lorsqu'on commence avec un nouveau utilisateur/item dont on n'a pas assez d'information)\n",
    "\n",
    "Pour répondre au problème de scalability on crée les modele Model Based(partie suivante).\n",
    "\n",
    "Pour répondre au problème de cold start, on utilise la recommandation Content based (on va pas l'utiliser vu qu'on n'a pas ces données )\n",
    "\n"
   ]
  },
  {
   "cell_type": "markdown",
   "metadata": {
    "collapsed": true
   },
   "source": [
    "# 2. Model-based Collaborative Filtering"
   ]
  },
  {
   "cell_type": "markdown",
   "metadata": {
    "collapsed": true
   },
   "source": [
    "\n",
    "Dans cette partie du projet, nous appliquons le deuxième sous-type du fitrage collaboratif : \"Model-based\". \n",
    "Il consiste à appliquer la matrice de factorisation (MF) : c'est une méthode d'apprentissage non supervisé de décomposition\n",
    "et de réduction de dimensionnalité pour les variables cachées. \n",
    "\n",
    "Le but de la matrice de factorisation est d'apprendre les préférences cachées des utilisateurs et les attributs cachés des items\n",
    "depuis les ratings connus dans notre jeu de données, pour enfin prédire les ratings inconnus en multipliant les matrices de varibales cachées des utilisateurs et des items. \n",
    "\n",
    "Il existe plusieurs techniques de réduction de dimensionnalité dans l'implémentation des systèmes de recommendations. \n",
    "\n",
    "Dans notre projet, nous avons utilisé :\n",
    "\n",
    "- SVD : singular value decomposition\n",
    "\n",
    "- SGD : Stochastic Gradient Descent\n",
    "\n",
    "- ALS \n",
    "\n"
   ]
  },
  {
   "cell_type": "markdown",
   "metadata": {},
   "source": [
    "## 2.1 Singular value decomposition (SVD)"
   ]
  },
  {
   "cell_type": "markdown",
   "metadata": {},
   "source": [
    "### 2.1.1 La mise en place des SVD:"
   ]
  },
  {
   "cell_type": "markdown",
   "metadata": {
    "collapsed": true
   },
   "source": [
    "\n",
    "Cette technique, comme toutes les autres, consiste à réduire la dimensionnalité de la matrice User-Item calculée précedemment.\n",
    "Posons R la matrice User-Item de taille m x n (m : nombre de users, n: nombre d'items) et  k: la dimension de l'espace des caractères cachés.\n",
    "L'équation générale de SVD est données par : R=USV^T avec:\n",
    "\n",
    "- La matrice U des caractères cachés pour les utilisateurs : de taille m*k\n",
    "\n",
    "- La matrice V des caractères cachés pour les items : de taille n*k\n",
    "\n",
    "- La matrice diagonale de taille k x k avec des valeurs réelles non-negatives sur la diagonale\n",
    "\n",
    "On peut faire la prédiction en appliquant la multiplication des 3 matrices\n"
   ]
  },
  {
   "cell_type": "code",
   "execution_count": 108,
   "metadata": {
    "collapsed": true
   },
   "outputs": [],
   "source": [
    "import scipy.sparse as sp\n",
    "from scipy.sparse.linalg import svds\n",
    "\n",
    "#Obtenir les composantes de SVD à partir de la matrice User-Item du train. On choisit une valeur de k=20.\n",
    "u, s, vt = svds(train_data_matrix, k = 100)\n",
    "s_diag_matrix=np.diag(s)"
   ]
  },
  {
   "cell_type": "code",
   "execution_count": 109,
   "metadata": {
    "collapsed": true
   },
   "outputs": [],
   "source": [
    "# Multiplication des 3 matrices avec np.dot pour obtenir la matrice User_Item estimée.\n",
    "X_pred = np.dot(np.dot(u, s_diag_matrix), vt) "
   ]
  },
  {
   "cell_type": "code",
   "execution_count": 110,
   "metadata": {
    "collapsed": false
   },
   "outputs": [],
   "source": [
    "#la normalisation de X_pred vu qu'elle retourne des données qui sont pas bien distribué dans [0,5]\n",
    "import math\n",
    "x = np.zeros((n_users, n_items))\n",
    "for i in range(0,n_items):\n",
    "    a=max(X_pred[:,i])\n",
    "    b=min(X_pred[:,i])\n",
    "    c=0\n",
    "    d=5\n",
    "    for j in range(0,n_users):\n",
    "        x[j,i]=(X_pred[:,i][j]-(a-c))*d/(b-a+c)\n",
    "        if math.isnan(x[j,i]): x[j,i]=0"
   ]
  },
  {
   "cell_type": "code",
   "execution_count": 111,
   "metadata": {
    "collapsed": false
   },
   "outputs": [
    {
     "name": "stdout",
     "output_type": "stream",
     "text": [
      "RMSE: 1.46997911037\n"
     ]
    }
   ],
   "source": [
    "# Calcul de performance avec RMSE entre la matrice estimée et la matrice du test\n",
    "print 'RMSE: ' + str(rmse(x, test_data_matrix))\n",
    "#On a trouvé 1.49 comme RMSE, c'est plus grand que le RMSE des modèles Memory based, mais ça prend énormement moins du temps.\n",
    "#Ce qu'on va dans la partie qui suit c'est d'améliorer notre modèle par le gradient stochastique et l'ALS."
   ]
  },
  {
   "cell_type": "markdown",
   "metadata": {},
   "source": [
    "## 2.2 Stochastic Gradient Descent with Weighted Lambda Regularisation (SGD-WR)"
   ]
  },
  {
   "cell_type": "markdown",
   "metadata": {},
   "source": [
    "### 2.2.1. La mise en place du modèle:"
   ]
  },
  {
   "cell_type": "markdown",
   "metadata": {
    "collapsed": false
   },
   "source": [
    "********** Algorithme SGD (Stochastic Gradient Descent) ************\n",
    "\n",
    "Quand on utilise le filtrage collboratif pour SGD,on veut estimer 2 matrices P et Q: \n",
    "\n",
    "- La matrice P des caractères cachés pour les utilisateurs : de taille m*k (m: nombre d'utilisateurs, k: dimension de l'espace des caractères cachés)\n",
    "\n",
    "- La matrice Q des caractères cachés pour les items : de taille n*k (m: nombre d'items, k: dimension de l'espace des caractères cachés)\n",
    "\n",
    "Après l'estimation de P et Q, on peut alors prédire les ratings inconnus en multipliant les matrices P et la transposée de Q.\n",
    "\n"
   ]
  },
  {
   "cell_type": "code",
   "execution_count": 117,
   "metadata": {
    "collapsed": true
   },
   "outputs": [],
   "source": [
    "#Les matrices I et I2 serviront de matrices de sélecteur pour prendre les éléments appropriés après la création du Train et du Test\n",
    "#selecteur de var est égal à 1 si la valeur dans la matrice est != 0\n",
    "\n",
    "# matrice d'indices pour le train\n",
    "I = train_data_matrix.copy()\n",
    "I[I > 0] = 1\n",
    "I[I == 0] = 0\n",
    "\n",
    "# matrice d'indices pour le test\n",
    "I2 = test_data_matrix.copy()\n",
    "I2[I2 > 0] = 1\n",
    "I2[I2 == 0] = 0"
   ]
  },
  {
   "cell_type": "code",
   "execution_count": 118,
   "metadata": {
    "collapsed": true
   },
   "outputs": [],
   "source": [
    "# La fonction prediction permet de prédire les ratings inconnus en multipliant les matrices P et la transposée de Q\n",
    "def prediction(P,Q):\n",
    "    return np.dot(P.T,Q)"
   ]
  },
  {
   "cell_type": "markdown",
   "metadata": {},
   "source": [
    "\n",
    "Pour mettre à jour P et Q, on peut utiliser le SGD où on itère chaque observation dans le train pour mettre à jour P et Q au fur et à mesure: \n",
    "\n",
    "Q_{i+1} = Q_i + (gamma) (e{ui}*P_u - (lambda)* Q_i)\n",
    "\n",
    "P_{i+1} = P_i + (gamma) (e{ui}*Q_u - (lambda)* P_i)\n",
    "\n",
    "On note: \n",
    "\n",
    "- (gamma) la vitesse de l'apprentissage\n",
    "\n",
    "- (lambda) le Terme de régularisation\n",
    "\n",
    "- e :l'erreur qui est la différence entre le rating réel et le rating prédit.\n"
   ]
  },
  {
   "cell_type": "code",
   "execution_count": 119,
   "metadata": {
    "collapsed": true
   },
   "outputs": [],
   "source": [
    "\n",
    "# ****** Initialisation ******* \n",
    "\n",
    "lmbda = 0.1 # Terme de régularisation\n",
    "k = 20 # dimension de l'espace des caractères cachés\n",
    "m, n = train_data_matrix.shape  # nombre d'utilisateurs et d'items\n",
    "steps = 150  # Nombre d'itération \n",
    "gamma=0.001  # vitesse d'apprentissage\n",
    "\n",
    "P = 3 * np.random.rand(k,m) # Matrice des caractères cachés pour les utilisateurs\n",
    "Q = 3 * np.random.rand(k,n) # Matrice des caractères cachés pour les items\n",
    "\n",
    "#les matrices P et Q sont initialisées avec des valeurs aléatoires au début, mais leur contenu change à chaque itération en se \n",
    "#basant sur le train"
   ]
  },
  {
   "cell_type": "code",
   "execution_count": 120,
   "metadata": {
    "collapsed": true
   },
   "outputs": [],
   "source": [
    "\"\"\" Il existe plusieurs métriques d'évaluation, mais la plus populaire des métriques utilisée pour évaluer l'exactitude des ratings prédits\n",
    "est l'erreur quadratique moyenne (RMSE) qu'on a utilisé dans notre projet :\n",
    "\n",
    "RMSE =RacineCarrée{(1/N) * sum (r_i -estimé{r_i})^2}\n",
    "\"\"\"\n",
    "\n",
    "def rmse2(I,R,Q,P):\n",
    "    return np.sqrt(np.sum((I * (R - prediction(P,Q)))**2)/len(R[R > 0]))\n",
    "\n",
    "#R = train_data_matrix\n",
    "#prediction(P,Q): estimateur du train_data_matrix avec la méthode de factorisation\n",
    "#I pour prendre seulement la partie significative de la matrice (!=0)"
   ]
  },
  {
   "cell_type": "code",
   "execution_count": 121,
   "metadata": {
    "collapsed": true
   },
   "outputs": [],
   "source": [
    "#On ne considère que les valeurs !=0 \n",
    "users,items = train_data_matrix.nonzero()  "
   ]
  },
  {
   "cell_type": "code",
   "execution_count": 122,
   "metadata": {
    "collapsed": false
   },
   "outputs": [],
   "source": [
    "#implémentation de the SGD-WR: (ps) cet algo prend du temps ça depend de nombre steps choisi.\n",
    "train_errors = [] #stocker les erreurs du train obtenus par RMSE à chaque itération (step) \n",
    "test_errors = [] #stocker les erreurs du test obtenus par RMSE à chaque itération (step) \n",
    "     \n",
    "for step in xrange(steps):\n",
    "    for u, i in zip(users,items): #zip() retourne les tuples (user,item)\n",
    "        e = train_data_matrix[u, i] - prediction(P[:,u],Q[:,i])  # calculer l'erreur e pour le gradient\n",
    "        P[:,u] += gamma * ( e * Q[:,i] - lmbda * P[:,u]) # mise à jour de la matrice P\n",
    "        Q[:,i] += gamma * ( e * P[:,u] - lmbda * Q[:,i])  # mise à jour de la matrice Q\n",
    "        \n",
    "    train_rmse = rmse2(I,train_data_matrix,Q,P) # Calcul de l'RMSE à partir du train\n",
    "    test_rmse = rmse2(I2,test_data_matrix,Q,P) # Calcul de l'RMSE à partir du test\n",
    "    train_errors.append(train_rmse) #à chaque itération ajouter l'erreur à la liste\n",
    "    test_errors.append(test_rmse) #à chaque itération ajouter l'erreur à la liste\n",
    "\n"
   ]
  },
  {
   "cell_type": "code",
   "execution_count": 123,
   "metadata": {
    "collapsed": false
   },
   "outputs": [
    {
     "name": "stdout",
     "output_type": "stream",
     "text": [
      "RMSE : 1.50060377979\n"
     ]
    }
   ],
   "source": [
    "print 'RMSE : ' + str(np.mean(test_errors)) "
   ]
  },
  {
   "cell_type": "code",
   "execution_count": 124,
   "metadata": {
    "collapsed": false
   },
   "outputs": [
    {
     "data": {
      "image/png": "[encoded data removed]",
      "text/plain": [
       "<matplotlib.figure.Figure at 0x115a7828>"
      ]
     },
     "metadata": {},
     "output_type": "display_data"
    }
   ],
   "source": [
    "# Maitenant, après avoir obtenus toutes les valeurs de l'erreur à chaque étape,on peut tracer la courbe d'apprentissage.\n",
    "# ==> On Vérifie la performance en traçant les erreurs du train et du test\n",
    "\n",
    "import matplotlib.pyplot as plt\n",
    "%matplotlib inline\n",
    "\n",
    "plt.plot(range(steps), train_errors, marker='o', label='Training Data'); \n",
    "plt.plot(range(steps), test_errors, marker='v', label='Test Data');\n",
    "plt.title('Courbe d apprentissage SGD')\n",
    "plt.xlabel('Nombre d etapes');\n",
    "plt.ylabel('RMSE');\n",
    "plt.legend()\n",
    "plt.grid()\n",
    "plt.show()"
   ]
  },
  {
   "cell_type": "markdown",
   "metadata": {
    "collapsed": true
   },
   "source": [
    "\n",
    "Le modèle semble fonctionner bien avec,relativement, une basse valeur de RMSE après convergence.\n",
    "La performance du modèle peut dépendre des paramètres (gamma), (lambda) et k qu'on a varié à plusieurs reprises afin d'obtenir \n",
    "le meilleur RMSE.\n",
    "\n",
    "Après cette étape, on peut comparer le rating réel avec le rating estimé; Pour ce faire, on utilise la matrice User-item qu'on a \n",
    "déjà calculée et utilisé la fonction prediction(P,Q) implémentée précédemment. \n",
    "\n"
   ]
  },
  {
   "cell_type": "markdown",
   "metadata": {},
   "source": [
    "## 2.3 ALS : Alternating Least Squares"
   ]
  },
  {
   "cell_type": "code",
   "execution_count": 125,
   "metadata": {
    "collapsed": false
   },
   "outputs": [],
   "source": [
    "# Index matrix for training data\n",
    "I = train_data_matrix.copy()\n",
    "I[I > 0] = 1\n",
    "I[I == 0] = 0\n",
    "\n",
    "# Index matrix for test data\n",
    "I2 = test_data_matrix.copy()\n",
    "I2[I2 > 0] = 1\n",
    "I2[I2 == 0] = 0"
   ]
  },
  {
   "cell_type": "code",
   "execution_count": 126,
   "metadata": {
    "collapsed": true
   },
   "outputs": [],
   "source": [
    "#ps: on n'a pas commenté car c'est presque le mm principe que le modele SGD!\n",
    "lmbda = 0.1 \n",
    "k = 20 \n",
    "n_epochs = 2 # Nombre d'étapes\n",
    "m, n = train_data_matrix.shape # Number of users and items\n",
    "P = 3 * np.random.rand(k,m) # Latent user feature matrix\n",
    "Q = 3 * np.random.rand(k,n) # Latent item feature matrix\n",
    "Q[0,:] = train_data_matrix[train_data_matrix != 0].mean(axis=0) # Avg. rating for each movie\n",
    "E = np.eye(k) # (k x k)-dimensional idendity matrix"
   ]
  },
  {
   "cell_type": "code",
   "execution_count": 127,
   "metadata": {
    "collapsed": false
   },
   "outputs": [
    {
     "name": "stdout",
     "output_type": "stream",
     "text": [
      "[Epoch 1/2] train error: 1.044781, test error: 1.369094\n",
      "[Epoch 2/2] train error: 0.764674, test error: 1.240162\n",
      "Algorithm converged\n"
     ]
    }
   ],
   "source": [
    "train_errors = []\n",
    "test_errors = []\n",
    "\n",
    "# Repeat until convergence\n",
    "for epoch in range(n_epochs):\n",
    "    # Fix Q and estimate P\n",
    "    for i, Ii in enumerate(I):\n",
    "        nui = np.count_nonzero(Ii) # Number of items user i has rated\n",
    "        if (nui == 0): nui = 1 # Be aware of zero counts!\n",
    "    \n",
    "        # Least squares solution\n",
    "        Ai = np.dot(Q, np.dot(np.diag(Ii), Q.T)) + lmbda * nui * E\n",
    "        Vi = np.dot(Q, np.dot(np.diag(Ii), train_data_matrix[i].T))\n",
    "        P[:,i] = np.linalg.solve(Ai,Vi)\n",
    "        \n",
    "    # Fix P and estimate Q\n",
    "    for j, Ij in enumerate(I.T):\n",
    "        nmj = np.count_nonzero(Ij) # Number of users that rated item j\n",
    "        if (nmj == 0): nmj = 1 # Be aware of zero counts!\n",
    "        \n",
    "        # Least squares solution\n",
    "        Aj = np.dot(P, np.dot(np.diag(Ij), P.T)) + lmbda * nmj * E\n",
    "        Vj = np.dot(P, np.dot(np.diag(Ij), train_data_matrix[:,j]))\n",
    "        Q[:,j] = np.linalg.solve(Aj,Vj)\n",
    "    \n",
    "    train_rmse = rmse2(I,train_data_matrix,Q,P)\n",
    "    test_rmse = rmse2(I2,test_data_matrix,Q,P)\n",
    "    train_errors.append(train_rmse)\n",
    "    test_errors.append(test_rmse)\n",
    "    \n",
    "    print \"[Epoch %d/%d] train error: %f, test error: %f\" \\\n",
    "    %(epoch+1, n_epochs, train_rmse, test_rmse)\n",
    "    \n",
    "print \"Algorithm converged\""
   ]
  },
  {
   "cell_type": "code",
   "execution_count": null,
   "metadata": {
    "collapsed": true
   },
   "outputs": [],
   "source": [
    "\"\"\"\n",
    "Conclusion:\n",
    "Cet algorithme est le meilleur de tous les autres algorithmes. \n",
    "Dans 2 itération on a trouvé un erreur de train qui est égale à 1.0.764674 et un erreur de test qui est égale à 1.240162\n",
    "Comme c'est l'algorithme le plus rapide et le plus efficace, On a décidé de le généralisé sur tout le jeu de données.\n",
    "\"\"\"\""
   ]
  }
 ],
 "metadata": {
  "anaconda-cloud": {},
  "kernelspec": {
   "display_name": "Python [Root]",
   "language": "python",
   "name": "Python [Root]"
  },
  "language_info": {
   "codemirror_mode": {
    "name": "ipython",
    "version": 2
   },
   "file_extension": ".py",
   "mimetype": "text/x-python",
   "name": "python",
   "nbconvert_exporter": "python",
   "pygments_lexer": "ipython2",
   "version": "2.7.12"
  }
 },
 "nbformat": 4,
 "nbformat_minor": 1
}
