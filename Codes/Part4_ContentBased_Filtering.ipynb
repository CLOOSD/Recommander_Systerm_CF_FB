{
 "cells": [
  {
   "cell_type": "markdown",
   "metadata": {},
   "source": [
    "# Content Based Filtering"
   ]
  },
  {
   "cell_type": "code",
   "execution_count": 2,
   "metadata": {
    "collapsed": false
   },
   "outputs": [],
   "source": [
    "import pandas as pd\n",
    "from sklearn.neighbors import KDTree\n",
    "from collections import Counter\n",
    "from sklearn.preprocessing import MinMaxScaler\n",
    "\n",
    "import numpy as np\n",
    "import random\n",
    "random.seed(9001)\n",
    "from sklearn.feature_extraction.text import CountVectorizer\n",
    "\n",
    "\n",
    "from sklearn.feature_extraction.text import TfidfVectorizer\n",
    "from sklearn.metrics.pairwise import linear_kernel\n",
    "from sklearn.metrics.pairwise import cosine_similarity"
   ]
  },
  {
   "cell_type": "code",
   "execution_count": null,
   "metadata": {
    "collapsed": true
   },
   "outputs": [],
   "source": []
  },
  {
   "cell_type": "code",
   "execution_count": 4,
   "metadata": {
    "collapsed": false
   },
   "outputs": [],
   "source": [
    "MoviesFeatures=pd.read_csv('../ml-latest-small/MoviesFeatures.csv')\n",
    "#we use the data that we've genreted with the file Create_Movies_Features.ipynb\n"
   ]
  },
  {
   "cell_type": "code",
   "execution_count": 166,
   "metadata": {
    "collapsed": false
   },
   "outputs": [],
   "source": [
    "MoviesFeatures=MoviesFeatures.drop('Unnamed: 0',axis=1)"
   ]
  },
  {
   "cell_type": "code",
   "execution_count": 167,
   "metadata": {
    "collapsed": false
   },
   "outputs": [
    {
     "data": {
      "text/html": [
       "<div>\n",
       "<table border=\"1\" class=\"dataframe\">\n",
       "  <thead>\n",
       "    <tr style=\"text-align: right;\">\n",
       "      <th></th>\n",
       "      <th>movieId</th>\n",
       "      <th>title</th>\n",
       "      <th>genre</th>\n",
       "      <th>year</th>\n",
       "      <th>writer</th>\n",
       "      <th>director</th>\n",
       "      <th>cast</th>\n",
       "      <th>rating</th>\n",
       "      <th>runtimes</th>\n",
       "      <th>countries</th>\n",
       "      <th>languages</th>\n",
       "      <th>production companies</th>\n",
       "    </tr>\n",
       "  </thead>\n",
       "  <tbody>\n",
       "    <tr>\n",
       "      <th>0</th>\n",
       "      <td>1</td>\n",
       "      <td>Toy Story (1995)</td>\n",
       "      <td>Animation,Adventure,Comedy,Family,Fantasy</td>\n",
       "      <td>1995.0</td>\n",
       "      <td>John Lasseter,Pete Docter,Andrew Stanton,Joe Ranft,Joss Whedon,Andrew Stanton,Joel Cohen,Alec So...</td>\n",
       "      <td>John Lasseter,</td>\n",
       "      <td>Tom Hanks,Tim Allen,Don Rickles,Jim Varney,Wallace Shawn,John Ratzenberger,Annie Potts,John Morr...</td>\n",
       "      <td>8.3</td>\n",
       "      <td>81</td>\n",
       "      <td>USA,</td>\n",
       "      <td>English,</td>\n",
       "      <td>Pixar Animation Studios,Walt Disney Pictures,</td>\n",
       "    </tr>\n",
       "  </tbody>\n",
       "</table>\n",
       "</div>"
      ],
      "text/plain": [
       "   movieId             title                                      genre  \\\n",
       "0        1  Toy Story (1995)  Animation,Adventure,Comedy,Family,Fantasy   \n",
       "\n",
       "     year  \\\n",
       "0  1995.0   \n",
       "\n",
       "                                                                                                writer  \\\n",
       "0  John Lasseter,Pete Docter,Andrew Stanton,Joe Ranft,Joss Whedon,Andrew Stanton,Joel Cohen,Alec So...   \n",
       "\n",
       "         director  \\\n",
       "0  John Lasseter,   \n",
       "\n",
       "                                                                                                  cast  \\\n",
       "0  Tom Hanks,Tim Allen,Don Rickles,Jim Varney,Wallace Shawn,John Ratzenberger,Annie Potts,John Morr...   \n",
       "\n",
       "   rating runtimes countries languages  \\\n",
       "0     8.3       81      USA,  English,   \n",
       "\n",
       "                            production companies  \n",
       "0  Pixar Animation Studios,Walt Disney Pictures,  "
      ]
     },
     "execution_count": 167,
     "metadata": {},
     "output_type": "execute_result"
    }
   ],
   "source": [
    "data=MoviesFeatures.dropna()\n",
    "data.shape\n",
    "data = data.reset_index(drop=True)\n",
    "data.head(1)"
   ]
  },
  {
   "cell_type": "code",
   "execution_count": 168,
   "metadata": {
    "collapsed": true
   },
   "outputs": [],
   "source": [
    "#we need to remove space from the name\n",
    "for index, row in data.iterrows():\n",
    "    data.ix[index,'writer']=data.ix[index,'writer'].replace(\" \", \"\")\n",
    "    data.ix[index,'director']=data.ix[index,'director'].replace(\" \", \"\")\n",
    "    data.ix[index,'cast']=data.ix[index,'cast'].replace(\" \", \"\")\n",
    "    data.ix[index,'production companies']=data.ix[index,'production companies'].replace(\" \", \"\")"
   ]
  },
  {
   "cell_type": "code",
   "execution_count": null,
   "metadata": {
    "collapsed": false
   },
   "outputs": [],
   "source": []
  },
  {
   "cell_type": "markdown",
   "metadata": {},
   "source": [
    "## recommendation based on genre"
   ]
  },
  {
   "cell_type": "code",
   "execution_count": 271,
   "metadata": {
    "collapsed": false
   },
   "outputs": [],
   "source": [
    "vectorizer = CountVectorizer()\n",
    "X = vectorizer.fit_transform(data['genre'].tolist())\n",
    "Xarray=X.toarray()\n",
    "cosine_similarities1 = cosine_similarity(Xarray, Xarray)\n",
    "def cb_similaire_item1(id,n):#similarity based on genre\n",
    "    id=id-1\n",
    "    similar_indices = cosine_similarities1[id].argsort()[:-(n+1):-1]\n",
    "    similar_items = [(cosine_similarities1[id][i], data['movieId'][i]) for i in similar_indices]\n",
    "    return similar_items[1:]\n",
    "#cb_similaire_item1(1,20)"
   ]
  },
  {
   "cell_type": "code",
   "execution_count": 207,
   "metadata": {
    "collapsed": false
   },
   "outputs": [],
   "source": [
    "#data.query('movieId==1 | movieId==2090 |  movieId==2355 | movieId==1031 | movieId==1030' )"
   ]
  },
  {
   "cell_type": "markdown",
   "metadata": {},
   "source": [
    "## recommendation based on writer"
   ]
  },
  {
   "cell_type": "code",
   "execution_count": 212,
   "metadata": {
    "collapsed": false
   },
   "outputs": [],
   "source": [
    "vectorizer = CountVectorizer()\n",
    "X = vectorizer.fit_transform(data['writer'].tolist())\n",
    "Xarray=X.toarray()\n",
    "cosine_similarities2 = cosine_similarity(Xarray, Xarray)\n",
    "def cb_similaire_item2(id,n):#similarity based on writer\n",
    "    id=id-1\n",
    "    similar_indices = cosine_similarities2[id].argsort()[:-(n+1):-1]\n",
    "    similar_items = [(cosine_similarities2[id][i], data['movieId'][i]) for i in similar_indices]\n",
    "    return similar_items[1:]\n",
    "#cb_similaire_item2(1,20)"
   ]
  },
  {
   "cell_type": "code",
   "execution_count": 205,
   "metadata": {
    "collapsed": false
   },
   "outputs": [],
   "source": [
    "#data.query('movieId==1 | movieId==2355 |  movieId==1604' )[[\"movieId\",\"title\",\"writer\"]]"
   ]
  },
  {
   "cell_type": "markdown",
   "metadata": {},
   "source": [
    "## recommendation based on director"
   ]
  },
  {
   "cell_type": "code",
   "execution_count": 213,
   "metadata": {
    "collapsed": false
   },
   "outputs": [],
   "source": [
    "vectorizer = CountVectorizer()\n",
    "X = vectorizer.fit_transform(data['director'].tolist())\n",
    "Xarray=X.toarray()\n",
    "cosine_similarities3 = cosine_similarity(Xarray, Xarray)\n",
    "def cb_similaire_item3(id,n):#similarity based on director\n",
    "    id=id-1\n",
    "    similar_indices = cosine_similarities3[id].argsort()[:-(n+1):-1]\n",
    "    similar_items = [(cosine_similarities3[id][i], data['movieId'][i]) for i in similar_indices]\n",
    "    return similar_items[1:]\n",
    "#cb_similaire_item3(1,20)"
   ]
  },
  {
   "cell_type": "code",
   "execution_count": 203,
   "metadata": {
    "collapsed": false
   },
   "outputs": [],
   "source": [
    "#(data.query('movieId==1 | movieId==2355 ' ))[['movieId','title','director']]"
   ]
  },
  {
   "cell_type": "markdown",
   "metadata": {},
   "source": [
    "## recommendation based on Countries"
   ]
  },
  {
   "cell_type": "code",
   "execution_count": 214,
   "metadata": {
    "collapsed": false
   },
   "outputs": [],
   "source": [
    "vectorizer = CountVectorizer()\n",
    "X = vectorizer.fit_transform(data['countries'].tolist())\n",
    "Xarray=X.toarray()\n",
    "cosine_similarities4 = cosine_similarity(Xarray, Xarray)\n",
    "def cb_similaire_item4(id,n):#similarity based on countries\n",
    "    id=id-1\n",
    "    similar_indices = cosine_similarities4[id].argsort()[:-(n+1):-1]\n",
    "    similar_items = [(cosine_similarities4[id][i], data['movieId'][i]) for i in similar_indices]\n",
    "    return similar_items[1:]\n",
    "#cb_similaire_item4(1,20)"
   ]
  },
  {
   "cell_type": "markdown",
   "metadata": {},
   "source": [
    "## Recommendation based on Production Companies"
   ]
  },
  {
   "cell_type": "code",
   "execution_count": 219,
   "metadata": {
    "collapsed": false
   },
   "outputs": [],
   "source": [
    "vectorizer = CountVectorizer()\n",
    "X = vectorizer.fit_transform(data['production companies'].tolist())\n",
    "Xarray=X.toarray()\n",
    "cosine_similarities5 = cosine_similarity(Xarray, Xarray)\n",
    "def cb_similaire_item5(id,n):#similarity based on production companies\n",
    "    id=id-1\n",
    "    similar_indices = cosine_similarities5[id].argsort()[:-(n+1):-1]\n",
    "    similar_items = [(cosine_similarities5[id][i], data['movieId'][i]) for i in similar_indices]\n",
    "    return similar_items[1:]\n",
    "#cb_similaire_item5(1,20)"
   ]
  },
  {
   "cell_type": "code",
   "execution_count": 201,
   "metadata": {
    "collapsed": false
   },
   "outputs": [],
   "source": [
    "#(data.query('movieId==1 | movieId==2355 | movieId==1020 ' ))[['movieId','title','production companies']]"
   ]
  },
  {
   "cell_type": "markdown",
   "metadata": {},
   "source": [
    "## recommendation based on all"
   ]
  },
  {
   "cell_type": "code",
   "execution_count": 268,
   "metadata": {
    "collapsed": true
   },
   "outputs": [],
   "source": [
    "l,c=data.shape\n",
    "\n",
    "def content_based(i):#i est l'indice du film pour lequel on veut chercher les item similaire\n",
    "    cb1=cb_similaire_item1(i,l)#similarity based on genre\n",
    "    cb2=cb_similaire_item2(i,l)#similarity based on writer\n",
    "    cb3=cb_similaire_item3(i,l)#similarity based on director\n",
    "    cb4=cb_similaire_item4(i,l)#similarity based on countries\n",
    "    cb5=cb_similaire_item5(i,l)#similarity based on production companies\n",
    "    \n",
    "    df1=pd.DataFrame(cb1,columns=['score_genre','movieId'])\n",
    "    df2=pd.DataFrame(cb2,columns=['score_writer','movieId'])\n",
    "    df3=pd.DataFrame(cb3,columns=['score_director','movieId'])\n",
    "    df4=pd.DataFrame(cb4,columns=['score_countries','movieId'])\n",
    "    df5=pd.DataFrame(cb5,columns=['score_production_companies','movieId'])\n",
    "    \n",
    "    df_all=df1.join(df2.set_index('movieId'), on='movieId').join(df3.set_index('movieId'), on='movieId').join(df4.set_index('movieId'), on='movieId').join(df5.set_index('movieId'), on='movieId')\n",
    "    df_all[\"score_all\"]=df_all[\"score_genre\"]+df_all[\"score_writer\"]+df_all[\"score_director\"]+df_all[\"score_countries\"]+df_all[\"score_production_companies\"]\n",
    "    df_all=df_all.sort_values(by='score_all',ascending=False)\n",
    "    \n",
    "    return df_all"
   ]
  },
  {
   "cell_type": "code",
   "execution_count": 272,
   "metadata": {
    "collapsed": false
   },
   "outputs": [
    {
     "data": {
      "text/html": [
       "<div>\n",
       "<table border=\"1\" class=\"dataframe\">\n",
       "  <thead>\n",
       "    <tr style=\"text-align: right;\">\n",
       "      <th></th>\n",
       "      <th>score_genre</th>\n",
       "      <th>movieId</th>\n",
       "      <th>score_writer</th>\n",
       "      <th>score_director</th>\n",
       "      <th>score_countries</th>\n",
       "      <th>score_production_companies</th>\n",
       "      <th>score_all</th>\n",
       "    </tr>\n",
       "  </thead>\n",
       "  <tbody>\n",
       "    <tr>\n",
       "      <th>1</th>\n",
       "      <td>1.000000</td>\n",
       "      <td>2355</td>\n",
       "      <td>0.67082</td>\n",
       "      <td>0.707107</td>\n",
       "      <td>1.0</td>\n",
       "      <td>1.000000</td>\n",
       "      <td>4.377927</td>\n",
       "    </tr>\n",
       "    <tr>\n",
       "      <th>24</th>\n",
       "      <td>0.800000</td>\n",
       "      <td>1282</td>\n",
       "      <td>0.00000</td>\n",
       "      <td>0.000000</td>\n",
       "      <td>1.0</td>\n",
       "      <td>0.707107</td>\n",
       "      <td>2.507107</td>\n",
       "    </tr>\n",
       "    <tr>\n",
       "      <th>73</th>\n",
       "      <td>0.670820</td>\n",
       "      <td>1020</td>\n",
       "      <td>0.00000</td>\n",
       "      <td>0.000000</td>\n",
       "      <td>1.0</td>\n",
       "      <td>0.707107</td>\n",
       "      <td>2.377927</td>\n",
       "    </tr>\n",
       "    <tr>\n",
       "      <th>11</th>\n",
       "      <td>0.845154</td>\n",
       "      <td>1566</td>\n",
       "      <td>0.00000</td>\n",
       "      <td>0.000000</td>\n",
       "      <td>1.0</td>\n",
       "      <td>0.500000</td>\n",
       "      <td>2.345154</td>\n",
       "    </tr>\n",
       "  </tbody>\n",
       "</table>\n",
       "</div>"
      ],
      "text/plain": [
       "    score_genre  movieId  score_writer  score_director  score_countries  \\\n",
       "1      1.000000     2355       0.67082        0.707107              1.0   \n",
       "24     0.800000     1282       0.00000        0.000000              1.0   \n",
       "73     0.670820     1020       0.00000        0.000000              1.0   \n",
       "11     0.845154     1566       0.00000        0.000000              1.0   \n",
       "\n",
       "    score_production_companies  score_all  \n",
       "1                     1.000000   4.377927  \n",
       "24                    0.707107   2.507107  \n",
       "73                    0.707107   2.377927  \n",
       "11                    0.500000   2.345154  "
      ]
     },
     "execution_count": 272,
     "metadata": {},
     "output_type": "execute_result"
    }
   ],
   "source": [
    "content_based(1).head(4)"
   ]
  },
  {
   "cell_type": "code",
   "execution_count": null,
   "metadata": {
    "collapsed": true
   },
   "outputs": [],
   "source": []
  }
 ],
 "metadata": {
  "anaconda-cloud": {},
  "kernelspec": {
   "display_name": "Python [default]",
   "language": "python",
   "name": "python2"
  },
  "language_info": {
   "codemirror_mode": {
    "name": "ipython",
    "version": 2
   },
   "file_extension": ".py",
   "mimetype": "text/x-python",
   "name": "python",
   "nbconvert_exporter": "python",
   "pygments_lexer": "ipython2",
   "version": "2.7.12"
  }
 },
 "nbformat": 4,
 "nbformat_minor": 1
}
